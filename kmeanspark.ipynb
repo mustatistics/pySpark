{
 "cells": [
  {
   "cell_type": "code",
   "execution_count": 1,
   "id": "611fa5cf",
   "metadata": {},
   "outputs": [
    {
     "data": {
      "text/html": [
       "<style>.container { width:97% !important; }</style>"
      ],
      "text/plain": [
       "<IPython.core.display.HTML object>"
      ]
     },
     "metadata": {},
     "output_type": "display_data"
    },
    {
     "data": {
      "text/html": [
       "<style>.CodeMirror { font-size:11px !important; }</style>"
      ],
      "text/plain": [
       "<IPython.core.display.HTML object>"
      ]
     },
     "metadata": {},
     "output_type": "display_data"
    }
   ],
   "source": [
    "import pandas as pd\n",
    "import numpy as np\n",
    "\n",
    "pd.set_option(\"display.max_columns\", None)\n",
    "pd.set_option(\"display.max_rows\", None)\n",
    "\n",
    "from IPython.core.display import display, HTML\n",
    "display(HTML(\"<style>.container { width:97% !important; }</style>\"))\n",
    "display(HTML(\"<style>.CodeMirror { font-size:11px !important; }</style>\"))"
   ]
  },
  {
   "cell_type": "code",
   "execution_count": 2,
   "id": "dc514473",
   "metadata": {},
   "outputs": [],
   "source": [
    "import findspark\n",
    "findspark.init()\n",
    "\n",
    "from pyspark.sql import SparkSession\n",
    "\n",
    "spark = SparkSession.builder\\\n",
    "        .master(\"local[4]\")\\\n",
    "        .appName(\"kmeans\")\\\n",
    "        .config('spark.driver.memory', '2g')\\\n",
    "        .config('spark.executor.memory', '4g')\\\n",
    "        .getOrCreate()\n",
    "\n",
    "sc = spark.sparkContext"
   ]
  },
  {
   "cell_type": "code",
   "execution_count": 3,
   "id": "2c356bb6",
   "metadata": {},
   "outputs": [
    {
     "name": "stderr",
     "output_type": "stream",
     "text": [
      "C:\\Users\\jarvis\\AppData\\Local\\Temp/ipykernel_13252/2076460382.py:8: FutureWarning: The default value of regex will change from True to False in a future version.\n",
      "  irisdf.columns = irisdf.columns.str.replace('[ ()-,cm]', '')\n"
     ]
    },
    {
     "data": {
      "text/html": [
       "<div>\n",
       "<style scoped>\n",
       "    .dataframe tbody tr th:only-of-type {\n",
       "        vertical-align: middle;\n",
       "    }\n",
       "\n",
       "    .dataframe tbody tr th {\n",
       "        vertical-align: top;\n",
       "    }\n",
       "\n",
       "    .dataframe thead th {\n",
       "        text-align: right;\n",
       "    }\n",
       "</style>\n",
       "<table border=\"1\" class=\"dataframe\">\n",
       "  <thead>\n",
       "    <tr style=\"text-align: right;\">\n",
       "      <th></th>\n",
       "      <th>sepallength</th>\n",
       "      <th>sepalwidth</th>\n",
       "      <th>petallength</th>\n",
       "      <th>petalwidth</th>\n",
       "      <th>label</th>\n",
       "    </tr>\n",
       "  </thead>\n",
       "  <tbody>\n",
       "    <tr>\n",
       "      <th>0</th>\n",
       "      <td>5.1</td>\n",
       "      <td>3.5</td>\n",
       "      <td>1.4</td>\n",
       "      <td>0.2</td>\n",
       "      <td>0</td>\n",
       "    </tr>\n",
       "    <tr>\n",
       "      <th>1</th>\n",
       "      <td>4.9</td>\n",
       "      <td>3.0</td>\n",
       "      <td>1.4</td>\n",
       "      <td>0.2</td>\n",
       "      <td>0</td>\n",
       "    </tr>\n",
       "    <tr>\n",
       "      <th>2</th>\n",
       "      <td>4.7</td>\n",
       "      <td>3.2</td>\n",
       "      <td>1.3</td>\n",
       "      <td>0.2</td>\n",
       "      <td>0</td>\n",
       "    </tr>\n",
       "    <tr>\n",
       "      <th>3</th>\n",
       "      <td>4.6</td>\n",
       "      <td>3.1</td>\n",
       "      <td>1.5</td>\n",
       "      <td>0.2</td>\n",
       "      <td>0</td>\n",
       "    </tr>\n",
       "    <tr>\n",
       "      <th>4</th>\n",
       "      <td>5.0</td>\n",
       "      <td>3.6</td>\n",
       "      <td>1.4</td>\n",
       "      <td>0.2</td>\n",
       "      <td>0</td>\n",
       "    </tr>\n",
       "  </tbody>\n",
       "</table>\n",
       "</div>"
      ],
      "text/plain": [
       "   sepallength  sepalwidth  petallength  petalwidth  label\n",
       "0          5.1         3.5          1.4         0.2      0\n",
       "1          4.9         3.0          1.4         0.2      0\n",
       "2          4.7         3.2          1.3         0.2      0\n",
       "3          4.6         3.1          1.5         0.2      0\n",
       "4          5.0         3.6          1.4         0.2      0"
      ]
     },
     "execution_count": 3,
     "metadata": {},
     "output_type": "execute_result"
    }
   ],
   "source": [
    "from sklearn import datasets\n",
    "\n",
    "iris = datasets.load_iris()\n",
    "X = iris.data\n",
    "y = iris.target\n",
    "\n",
    "irisdf = pd.concat([pd.DataFrame(X, columns = iris.feature_names), pd.DataFrame(y, columns = ['label'])], axis = 1)\n",
    "irisdf.columns = irisdf.columns.str.replace('[ ()-,cm]', '')\n",
    "irisdf.head()"
   ]
  },
  {
   "cell_type": "code",
   "execution_count": 4,
   "id": "49165d74",
   "metadata": {},
   "outputs": [],
   "source": [
    "irisPARK = spark.createDataFrame(irisdf) "
   ]
  },
  {
   "cell_type": "code",
   "execution_count": 5,
   "id": "8ee23476",
   "metadata": {},
   "outputs": [
    {
     "name": "stdout",
     "output_type": "stream",
     "text": [
      "+-----------+----------+-----------+----------+-----+\n",
      "|sepallength|sepalwidth|petallength|petalwidth|label|\n",
      "+-----------+----------+-----------+----------+-----+\n",
      "|        5.1|       3.5|        1.4|       0.2|    0|\n",
      "|        4.9|       3.0|        1.4|       0.2|    0|\n",
      "|        4.7|       3.2|        1.3|       0.2|    0|\n",
      "|        4.6|       3.1|        1.5|       0.2|    0|\n",
      "|        5.0|       3.6|        1.4|       0.2|    0|\n",
      "|        5.4|       3.9|        1.7|       0.4|    0|\n",
      "|        4.6|       3.4|        1.4|       0.3|    0|\n",
      "|        5.0|       3.4|        1.5|       0.2|    0|\n",
      "|        4.4|       2.9|        1.4|       0.2|    0|\n",
      "|        4.9|       3.1|        1.5|       0.1|    0|\n",
      "|        5.4|       3.7|        1.5|       0.2|    0|\n",
      "|        4.8|       3.4|        1.6|       0.2|    0|\n",
      "|        4.8|       3.0|        1.4|       0.1|    0|\n",
      "|        4.3|       3.0|        1.1|       0.1|    0|\n",
      "|        5.8|       4.0|        1.2|       0.2|    0|\n",
      "|        5.7|       4.4|        1.5|       0.4|    0|\n",
      "|        5.4|       3.9|        1.3|       0.4|    0|\n",
      "|        5.1|       3.5|        1.4|       0.3|    0|\n",
      "|        5.7|       3.8|        1.7|       0.3|    0|\n",
      "|        5.1|       3.8|        1.5|       0.3|    0|\n",
      "+-----------+----------+-----------+----------+-----+\n",
      "only showing top 20 rows\n",
      "\n"
     ]
    }
   ],
   "source": [
    "irisPARK.show()"
   ]
  },
  {
   "cell_type": "code",
   "execution_count": 6,
   "id": "cf388a62",
   "metadata": {},
   "outputs": [
    {
     "name": "stdout",
     "output_type": "stream",
     "text": [
      "+-------+------------------+------------------+------------------+------------------+------------------+\n",
      "|summary|       sepallength|        sepalwidth|       petallength|        petalwidth|             label|\n",
      "+-------+------------------+------------------+------------------+------------------+------------------+\n",
      "|  count|               150|               150|               150|               150|               150|\n",
      "|   mean| 5.843333333333334|3.0573333333333337|3.7580000000000005|1.1993333333333331|               1.0|\n",
      "| stddev|0.8280661279778623|0.4358662849366982|1.7652982332594664|0.7622376689603466|0.8192319205190405|\n",
      "|    min|               4.3|               2.0|               1.0|               0.1|                 0|\n",
      "|    max|               7.9|               4.4|               6.9|               2.5|                 2|\n",
      "+-------+------------------+------------------+------------------+------------------+------------------+\n",
      "\n"
     ]
    }
   ],
   "source": [
    "irisPARK.describe().show()"
   ]
  },
  {
   "cell_type": "code",
   "execution_count": 7,
   "id": "088d17e1",
   "metadata": {},
   "outputs": [],
   "source": [
    "import pyspark.sql.functions as F"
   ]
  },
  {
   "cell_type": "code",
   "execution_count": 8,
   "id": "000e37ba",
   "metadata": {},
   "outputs": [
    {
     "name": "stdout",
     "output_type": "stream",
     "text": [
      "+-----+-----+\n",
      "|label|Count|\n",
      "+-----+-----+\n",
      "|    0|   50|\n",
      "|    1|   50|\n",
      "|    2|   50|\n",
      "+-----+-----+\n",
      "\n"
     ]
    }
   ],
   "source": [
    "irisPARK.groupby('label').agg(F.count(\"*\").alias('Count')).show()"
   ]
  },
  {
   "cell_type": "code",
   "execution_count": 9,
   "id": "54aeeb5e",
   "metadata": {},
   "outputs": [
    {
     "name": "stdout",
     "output_type": "stream",
     "text": [
      "root\n",
      " |-- sepallength: double (nullable = true)\n",
      " |-- sepalwidth: double (nullable = true)\n",
      " |-- petallength: double (nullable = true)\n",
      " |-- petalwidth: double (nullable = true)\n",
      " |-- label: long (nullable = true)\n",
      "\n"
     ]
    }
   ],
   "source": [
    "irisPARK.printSchema()"
   ]
  },
  {
   "cell_type": "code",
   "execution_count": 10,
   "id": "3535bd25",
   "metadata": {},
   "outputs": [],
   "source": [
    "from pyspark.ml.feature import VectorAssembler\n",
    "vecAssembler = VectorAssembler(inputCols=[\"sepallength\", \"sepalwidth\", \"petallength\", \"petalwidth\"], outputCol=\"features\")"
   ]
  },
  {
   "cell_type": "code",
   "execution_count": 11,
   "id": "a9190b74",
   "metadata": {},
   "outputs": [
    {
     "name": "stdout",
     "output_type": "stream",
     "text": [
      "+-----------+----------+-----------+----------+-----+-----------------+\n",
      "|sepallength|sepalwidth|petallength|petalwidth|label|         features|\n",
      "+-----------+----------+-----------+----------+-----+-----------------+\n",
      "|        5.1|       3.5|        1.4|       0.2|    0|[5.1,3.5,1.4,0.2]|\n",
      "|        4.9|       3.0|        1.4|       0.2|    0|[4.9,3.0,1.4,0.2]|\n",
      "|        4.7|       3.2|        1.3|       0.2|    0|[4.7,3.2,1.3,0.2]|\n",
      "|        4.6|       3.1|        1.5|       0.2|    0|[4.6,3.1,1.5,0.2]|\n",
      "|        5.0|       3.6|        1.4|       0.2|    0|[5.0,3.6,1.4,0.2]|\n",
      "|        5.4|       3.9|        1.7|       0.4|    0|[5.4,3.9,1.7,0.4]|\n",
      "|        4.6|       3.4|        1.4|       0.3|    0|[4.6,3.4,1.4,0.3]|\n",
      "|        5.0|       3.4|        1.5|       0.2|    0|[5.0,3.4,1.5,0.2]|\n",
      "|        4.4|       2.9|        1.4|       0.2|    0|[4.4,2.9,1.4,0.2]|\n",
      "|        4.9|       3.1|        1.5|       0.1|    0|[4.9,3.1,1.5,0.1]|\n",
      "|        5.4|       3.7|        1.5|       0.2|    0|[5.4,3.7,1.5,0.2]|\n",
      "|        4.8|       3.4|        1.6|       0.2|    0|[4.8,3.4,1.6,0.2]|\n",
      "|        4.8|       3.0|        1.4|       0.1|    0|[4.8,3.0,1.4,0.1]|\n",
      "|        4.3|       3.0|        1.1|       0.1|    0|[4.3,3.0,1.1,0.1]|\n",
      "|        5.8|       4.0|        1.2|       0.2|    0|[5.8,4.0,1.2,0.2]|\n",
      "|        5.7|       4.4|        1.5|       0.4|    0|[5.7,4.4,1.5,0.4]|\n",
      "|        5.4|       3.9|        1.3|       0.4|    0|[5.4,3.9,1.3,0.4]|\n",
      "|        5.1|       3.5|        1.4|       0.3|    0|[5.1,3.5,1.4,0.3]|\n",
      "|        5.7|       3.8|        1.7|       0.3|    0|[5.7,3.8,1.7,0.3]|\n",
      "|        5.1|       3.8|        1.5|       0.3|    0|[5.1,3.8,1.5,0.3]|\n",
      "+-----------+----------+-----------+----------+-----+-----------------+\n",
      "only showing top 20 rows\n",
      "\n"
     ]
    }
   ],
   "source": [
    "vected = vecAssembler.transform(irisPARK)\n",
    "vected.show()"
   ]
  },
  {
   "cell_type": "code",
   "execution_count": 12,
   "id": "0e84a579",
   "metadata": {},
   "outputs": [
    {
     "data": {
      "text/plain": [
       "123"
      ]
     },
     "execution_count": 12,
     "metadata": {},
     "output_type": "execute_result"
    }
   ],
   "source": [
    "train, test = vected.randomSplit([0.8, 0.2], seed = 48)\n",
    "train.count()"
   ]
  },
  {
   "cell_type": "code",
   "execution_count": 13,
   "id": "502833f9",
   "metadata": {},
   "outputs": [
    {
     "data": {
      "text/plain": [
       "27"
      ]
     },
     "execution_count": 13,
     "metadata": {},
     "output_type": "execute_result"
    }
   ],
   "source": [
    "test.count()"
   ]
  },
  {
   "cell_type": "code",
   "execution_count": 14,
   "id": "ff091c3b",
   "metadata": {},
   "outputs": [],
   "source": [
    "from pyspark.ml.clustering import KMeans\n",
    "from pyspark.ml.feature import VectorAssembler\n",
    "from pyspark.ml.evaluation import ClusteringEvaluator"
   ]
  },
  {
   "cell_type": "code",
   "execution_count": 15,
   "id": "aff89916",
   "metadata": {},
   "outputs": [],
   "source": [
    "kmeans = KMeans() \\\n",
    ".setK(3) \\\n",
    ".setSeed(48) \\\n",
    ".setFeaturesCol(\"features\") \\\n",
    ".setPredictionCol(\"cluster\")"
   ]
  },
  {
   "cell_type": "code",
   "execution_count": 16,
   "id": "51b87926",
   "metadata": {},
   "outputs": [],
   "source": [
    "model = kmeans.fit(train)"
   ]
  },
  {
   "cell_type": "code",
   "execution_count": 17,
   "id": "bc660e92",
   "metadata": {},
   "outputs": [
    {
     "data": {
      "text/html": [
       "<div>\n",
       "<style scoped>\n",
       "    .dataframe tbody tr th:only-of-type {\n",
       "        vertical-align: middle;\n",
       "    }\n",
       "\n",
       "    .dataframe tbody tr th {\n",
       "        vertical-align: top;\n",
       "    }\n",
       "\n",
       "    .dataframe thead th {\n",
       "        text-align: right;\n",
       "    }\n",
       "</style>\n",
       "<table border=\"1\" class=\"dataframe\">\n",
       "  <thead>\n",
       "    <tr style=\"text-align: right;\">\n",
       "      <th></th>\n",
       "      <th>sepallength</th>\n",
       "      <th>sepalwidth</th>\n",
       "      <th>petallength</th>\n",
       "      <th>petalwidth</th>\n",
       "      <th>label</th>\n",
       "      <th>features</th>\n",
       "      <th>cluster</th>\n",
       "    </tr>\n",
       "  </thead>\n",
       "  <tbody>\n",
       "    <tr>\n",
       "      <th>0</th>\n",
       "      <td>4.6</td>\n",
       "      <td>3.6</td>\n",
       "      <td>1.0</td>\n",
       "      <td>0.2</td>\n",
       "      <td>0</td>\n",
       "      <td>[4.6, 3.6, 1.0, 0.2]</td>\n",
       "      <td>1</td>\n",
       "    </tr>\n",
       "    <tr>\n",
       "      <th>1</th>\n",
       "      <td>4.8</td>\n",
       "      <td>3.0</td>\n",
       "      <td>1.4</td>\n",
       "      <td>0.1</td>\n",
       "      <td>0</td>\n",
       "      <td>[4.8, 3.0, 1.4, 0.1]</td>\n",
       "      <td>1</td>\n",
       "    </tr>\n",
       "    <tr>\n",
       "      <th>2</th>\n",
       "      <td>4.8</td>\n",
       "      <td>3.4</td>\n",
       "      <td>1.6</td>\n",
       "      <td>0.2</td>\n",
       "      <td>0</td>\n",
       "      <td>[4.8, 3.4, 1.6, 0.2]</td>\n",
       "      <td>1</td>\n",
       "    </tr>\n",
       "    <tr>\n",
       "      <th>3</th>\n",
       "      <td>4.9</td>\n",
       "      <td>3.1</td>\n",
       "      <td>1.5</td>\n",
       "      <td>0.2</td>\n",
       "      <td>0</td>\n",
       "      <td>[4.9, 3.1, 1.5, 0.2]</td>\n",
       "      <td>1</td>\n",
       "    </tr>\n",
       "    <tr>\n",
       "      <th>4</th>\n",
       "      <td>5.0</td>\n",
       "      <td>3.4</td>\n",
       "      <td>1.5</td>\n",
       "      <td>0.2</td>\n",
       "      <td>0</td>\n",
       "      <td>[5.0, 3.4, 1.5, 0.2]</td>\n",
       "      <td>1</td>\n",
       "    </tr>\n",
       "    <tr>\n",
       "      <th>5</th>\n",
       "      <td>5.1</td>\n",
       "      <td>3.5</td>\n",
       "      <td>1.4</td>\n",
       "      <td>0.2</td>\n",
       "      <td>0</td>\n",
       "      <td>[5.1, 3.5, 1.4, 0.2]</td>\n",
       "      <td>1</td>\n",
       "    </tr>\n",
       "    <tr>\n",
       "      <th>6</th>\n",
       "      <td>5.4</td>\n",
       "      <td>3.4</td>\n",
       "      <td>1.7</td>\n",
       "      <td>0.2</td>\n",
       "      <td>0</td>\n",
       "      <td>[5.4, 3.4, 1.7, 0.2]</td>\n",
       "      <td>1</td>\n",
       "    </tr>\n",
       "    <tr>\n",
       "      <th>7</th>\n",
       "      <td>5.4</td>\n",
       "      <td>3.7</td>\n",
       "      <td>1.5</td>\n",
       "      <td>0.2</td>\n",
       "      <td>0</td>\n",
       "      <td>[5.4, 3.7, 1.5, 0.2]</td>\n",
       "      <td>1</td>\n",
       "    </tr>\n",
       "    <tr>\n",
       "      <th>8</th>\n",
       "      <td>5.5</td>\n",
       "      <td>4.2</td>\n",
       "      <td>1.4</td>\n",
       "      <td>0.2</td>\n",
       "      <td>0</td>\n",
       "      <td>[5.5, 4.2, 1.4, 0.2]</td>\n",
       "      <td>1</td>\n",
       "    </tr>\n",
       "    <tr>\n",
       "      <th>9</th>\n",
       "      <td>4.5</td>\n",
       "      <td>2.3</td>\n",
       "      <td>1.3</td>\n",
       "      <td>0.3</td>\n",
       "      <td>0</td>\n",
       "      <td>[4.5, 2.3, 1.3, 0.3]</td>\n",
       "      <td>1</td>\n",
       "    </tr>\n",
       "    <tr>\n",
       "      <th>10</th>\n",
       "      <td>5.1</td>\n",
       "      <td>3.8</td>\n",
       "      <td>1.9</td>\n",
       "      <td>0.4</td>\n",
       "      <td>0</td>\n",
       "      <td>[5.1, 3.8, 1.9, 0.4]</td>\n",
       "      <td>1</td>\n",
       "    </tr>\n",
       "    <tr>\n",
       "      <th>11</th>\n",
       "      <td>5.3</td>\n",
       "      <td>3.7</td>\n",
       "      <td>1.5</td>\n",
       "      <td>0.2</td>\n",
       "      <td>0</td>\n",
       "      <td>[5.3, 3.7, 1.5, 0.2]</td>\n",
       "      <td>1</td>\n",
       "    </tr>\n",
       "    <tr>\n",
       "      <th>12</th>\n",
       "      <td>5.6</td>\n",
       "      <td>2.5</td>\n",
       "      <td>3.9</td>\n",
       "      <td>1.1</td>\n",
       "      <td>1</td>\n",
       "      <td>[5.6, 2.5, 3.9, 1.1]</td>\n",
       "      <td>0</td>\n",
       "    </tr>\n",
       "    <tr>\n",
       "      <th>13</th>\n",
       "      <td>5.8</td>\n",
       "      <td>2.7</td>\n",
       "      <td>4.1</td>\n",
       "      <td>1.0</td>\n",
       "      <td>1</td>\n",
       "      <td>[5.8, 2.7, 4.1, 1.0]</td>\n",
       "      <td>0</td>\n",
       "    </tr>\n",
       "    <tr>\n",
       "      <th>14</th>\n",
       "      <td>5.9</td>\n",
       "      <td>3.2</td>\n",
       "      <td>4.8</td>\n",
       "      <td>1.8</td>\n",
       "      <td>1</td>\n",
       "      <td>[5.9, 3.2, 4.8, 1.8]</td>\n",
       "      <td>0</td>\n",
       "    </tr>\n",
       "    <tr>\n",
       "      <th>15</th>\n",
       "      <td>6.1</td>\n",
       "      <td>2.8</td>\n",
       "      <td>4.0</td>\n",
       "      <td>1.3</td>\n",
       "      <td>1</td>\n",
       "      <td>[6.1, 2.8, 4.0, 1.3]</td>\n",
       "      <td>0</td>\n",
       "    </tr>\n",
       "    <tr>\n",
       "      <th>16</th>\n",
       "      <td>6.3</td>\n",
       "      <td>2.5</td>\n",
       "      <td>4.9</td>\n",
       "      <td>1.5</td>\n",
       "      <td>1</td>\n",
       "      <td>[6.3, 2.5, 4.9, 1.5]</td>\n",
       "      <td>0</td>\n",
       "    </tr>\n",
       "    <tr>\n",
       "      <th>17</th>\n",
       "      <td>5.6</td>\n",
       "      <td>3.0</td>\n",
       "      <td>4.1</td>\n",
       "      <td>1.3</td>\n",
       "      <td>1</td>\n",
       "      <td>[5.6, 3.0, 4.1, 1.3]</td>\n",
       "      <td>0</td>\n",
       "    </tr>\n",
       "    <tr>\n",
       "      <th>18</th>\n",
       "      <td>5.8</td>\n",
       "      <td>2.6</td>\n",
       "      <td>4.0</td>\n",
       "      <td>1.2</td>\n",
       "      <td>1</td>\n",
       "      <td>[5.8, 2.6, 4.0, 1.2]</td>\n",
       "      <td>0</td>\n",
       "    </tr>\n",
       "    <tr>\n",
       "      <th>19</th>\n",
       "      <td>7.6</td>\n",
       "      <td>3.0</td>\n",
       "      <td>6.6</td>\n",
       "      <td>2.1</td>\n",
       "      <td>2</td>\n",
       "      <td>[7.6, 3.0, 6.6, 2.1]</td>\n",
       "      <td>2</td>\n",
       "    </tr>\n",
       "    <tr>\n",
       "      <th>20</th>\n",
       "      <td>6.1</td>\n",
       "      <td>2.6</td>\n",
       "      <td>5.6</td>\n",
       "      <td>1.4</td>\n",
       "      <td>2</td>\n",
       "      <td>[6.1, 2.6, 5.6, 1.4]</td>\n",
       "      <td>2</td>\n",
       "    </tr>\n",
       "    <tr>\n",
       "      <th>21</th>\n",
       "      <td>6.3</td>\n",
       "      <td>3.4</td>\n",
       "      <td>5.6</td>\n",
       "      <td>2.4</td>\n",
       "      <td>2</td>\n",
       "      <td>[6.3, 3.4, 5.6, 2.4]</td>\n",
       "      <td>2</td>\n",
       "    </tr>\n",
       "    <tr>\n",
       "      <th>22</th>\n",
       "      <td>6.4</td>\n",
       "      <td>2.8</td>\n",
       "      <td>5.6</td>\n",
       "      <td>2.1</td>\n",
       "      <td>2</td>\n",
       "      <td>[6.4, 2.8, 5.6, 2.1]</td>\n",
       "      <td>2</td>\n",
       "    </tr>\n",
       "    <tr>\n",
       "      <th>23</th>\n",
       "      <td>6.7</td>\n",
       "      <td>3.3</td>\n",
       "      <td>5.7</td>\n",
       "      <td>2.5</td>\n",
       "      <td>2</td>\n",
       "      <td>[6.7, 3.3, 5.7, 2.5]</td>\n",
       "      <td>2</td>\n",
       "    </tr>\n",
       "    <tr>\n",
       "      <th>24</th>\n",
       "      <td>6.8</td>\n",
       "      <td>3.2</td>\n",
       "      <td>5.9</td>\n",
       "      <td>2.3</td>\n",
       "      <td>2</td>\n",
       "      <td>[6.8, 3.2, 5.9, 2.3]</td>\n",
       "      <td>2</td>\n",
       "    </tr>\n",
       "    <tr>\n",
       "      <th>25</th>\n",
       "      <td>7.7</td>\n",
       "      <td>2.6</td>\n",
       "      <td>6.9</td>\n",
       "      <td>2.3</td>\n",
       "      <td>2</td>\n",
       "      <td>[7.7, 2.6, 6.9, 2.3]</td>\n",
       "      <td>2</td>\n",
       "    </tr>\n",
       "    <tr>\n",
       "      <th>26</th>\n",
       "      <td>7.7</td>\n",
       "      <td>3.0</td>\n",
       "      <td>6.1</td>\n",
       "      <td>2.3</td>\n",
       "      <td>2</td>\n",
       "      <td>[7.7, 3.0, 6.1, 2.3]</td>\n",
       "      <td>2</td>\n",
       "    </tr>\n",
       "  </tbody>\n",
       "</table>\n",
       "</div>"
      ],
      "text/plain": [
       "    sepallength  sepalwidth  petallength  petalwidth  label  \\\n",
       "0           4.6         3.6          1.0         0.2      0   \n",
       "1           4.8         3.0          1.4         0.1      0   \n",
       "2           4.8         3.4          1.6         0.2      0   \n",
       "3           4.9         3.1          1.5         0.2      0   \n",
       "4           5.0         3.4          1.5         0.2      0   \n",
       "5           5.1         3.5          1.4         0.2      0   \n",
       "6           5.4         3.4          1.7         0.2      0   \n",
       "7           5.4         3.7          1.5         0.2      0   \n",
       "8           5.5         4.2          1.4         0.2      0   \n",
       "9           4.5         2.3          1.3         0.3      0   \n",
       "10          5.1         3.8          1.9         0.4      0   \n",
       "11          5.3         3.7          1.5         0.2      0   \n",
       "12          5.6         2.5          3.9         1.1      1   \n",
       "13          5.8         2.7          4.1         1.0      1   \n",
       "14          5.9         3.2          4.8         1.8      1   \n",
       "15          6.1         2.8          4.0         1.3      1   \n",
       "16          6.3         2.5          4.9         1.5      1   \n",
       "17          5.6         3.0          4.1         1.3      1   \n",
       "18          5.8         2.6          4.0         1.2      1   \n",
       "19          7.6         3.0          6.6         2.1      2   \n",
       "20          6.1         2.6          5.6         1.4      2   \n",
       "21          6.3         3.4          5.6         2.4      2   \n",
       "22          6.4         2.8          5.6         2.1      2   \n",
       "23          6.7         3.3          5.7         2.5      2   \n",
       "24          6.8         3.2          5.9         2.3      2   \n",
       "25          7.7         2.6          6.9         2.3      2   \n",
       "26          7.7         3.0          6.1         2.3      2   \n",
       "\n",
       "                features  cluster  \n",
       "0   [4.6, 3.6, 1.0, 0.2]        1  \n",
       "1   [4.8, 3.0, 1.4, 0.1]        1  \n",
       "2   [4.8, 3.4, 1.6, 0.2]        1  \n",
       "3   [4.9, 3.1, 1.5, 0.2]        1  \n",
       "4   [5.0, 3.4, 1.5, 0.2]        1  \n",
       "5   [5.1, 3.5, 1.4, 0.2]        1  \n",
       "6   [5.4, 3.4, 1.7, 0.2]        1  \n",
       "7   [5.4, 3.7, 1.5, 0.2]        1  \n",
       "8   [5.5, 4.2, 1.4, 0.2]        1  \n",
       "9   [4.5, 2.3, 1.3, 0.3]        1  \n",
       "10  [5.1, 3.8, 1.9, 0.4]        1  \n",
       "11  [5.3, 3.7, 1.5, 0.2]        1  \n",
       "12  [5.6, 2.5, 3.9, 1.1]        0  \n",
       "13  [5.8, 2.7, 4.1, 1.0]        0  \n",
       "14  [5.9, 3.2, 4.8, 1.8]        0  \n",
       "15  [6.1, 2.8, 4.0, 1.3]        0  \n",
       "16  [6.3, 2.5, 4.9, 1.5]        0  \n",
       "17  [5.6, 3.0, 4.1, 1.3]        0  \n",
       "18  [5.8, 2.6, 4.0, 1.2]        0  \n",
       "19  [7.6, 3.0, 6.6, 2.1]        2  \n",
       "20  [6.1, 2.6, 5.6, 1.4]        2  \n",
       "21  [6.3, 3.4, 5.6, 2.4]        2  \n",
       "22  [6.4, 2.8, 5.6, 2.1]        2  \n",
       "23  [6.7, 3.3, 5.7, 2.5]        2  \n",
       "24  [6.8, 3.2, 5.9, 2.3]        2  \n",
       "25  [7.7, 2.6, 6.9, 2.3]        2  \n",
       "26  [7.7, 3.0, 6.1, 2.3]        2  "
      ]
     },
     "execution_count": 17,
     "metadata": {},
     "output_type": "execute_result"
    }
   ],
   "source": [
    "pred_df = model.transform(test)\n",
    "\n",
    "pred_df.toPandas()"
   ]
  },
  {
   "cell_type": "code",
   "execution_count": 18,
   "id": "58fbef78",
   "metadata": {},
   "outputs": [
    {
     "name": "stdout",
     "output_type": "stream",
     "text": [
      "+-------+-----+\n",
      "|cluster|count|\n",
      "+-------+-----+\n",
      "|      1|   12|\n",
      "|      2|    8|\n",
      "|      0|    7|\n",
      "+-------+-----+\n",
      "\n"
     ]
    }
   ],
   "source": [
    "pred_df.groupBy('cluster').count().show()"
   ]
  },
  {
   "cell_type": "code",
   "execution_count": 19,
   "id": "6b042796",
   "metadata": {},
   "outputs": [
    {
     "name": "stdout",
     "output_type": "stream",
     "text": [
      "2 0.843481585592055\n",
      "3 0.8078282316788999\n",
      "4 0.614919838384644\n",
      "5 0.4989573104941077\n",
      "6 0.42917962895504586\n",
      "7 0.49141691856535913\n",
      "8 0.5510252277651395\n",
      "9 0.6227684290871175\n",
      "10 0.5070393849996856\n"
     ]
    }
   ],
   "source": [
    "for k in range(2, 11):\n",
    "    \n",
    "    kmeans = KMeans() \\\n",
    "    .setK(k) \\\n",
    "    .setSeed(48) \\\n",
    "    .setFeaturesCol(\"features\") \\\n",
    "    .setPredictionCol(\"cluster\")\n",
    "    \n",
    "    model = kmeans.fit(train)\n",
    "    \n",
    "    pred_df = model.transform(test)\n",
    "    \n",
    "    evaluator = ClusteringEvaluator() \\\n",
    "    .setFeaturesCol(\"features\") \\\n",
    "    .setPredictionCol(\"cluster\") \\\n",
    "    .setMetricName(\"silhouette\")\n",
    "    \n",
    "    score = evaluator.evaluate(pred_df)\n",
    "    \n",
    "    print(k, score)"
   ]
  },
  {
   "cell_type": "code",
   "execution_count": null,
   "id": "6b515611",
   "metadata": {},
   "outputs": [],
   "source": []
  }
 ],
 "metadata": {
  "kernelspec": {
   "display_name": "Python 3 (ipykernel)",
   "language": "python",
   "name": "python3"
  },
  "language_info": {
   "codemirror_mode": {
    "name": "ipython",
    "version": 3
   },
   "file_extension": ".py",
   "mimetype": "text/x-python",
   "name": "python",
   "nbconvert_exporter": "python",
   "pygments_lexer": "ipython3",
   "version": "3.9.7"
  }
 },
 "nbformat": 4,
 "nbformat_minor": 5
}
